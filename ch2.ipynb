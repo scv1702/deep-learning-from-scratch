{
 "cells": [
  {
   "cell_type": "code",
   "execution_count": 20,
   "metadata": {},
   "outputs": [
    {
     "name": "stdout",
     "output_type": "stream",
     "text": [
      "0\n",
      "0\n",
      "0\n",
      "1\n"
     ]
    }
   ],
   "source": [
    "# AND 게이트 퍼셉트론\n",
    "def AND(x1, x2):\n",
    "  w1, w2, theta = 0.5, 0.5, 0.7\n",
    "  tmp = x1*w1 + x2*w2\n",
    "  if tmp > theta:\n",
    "    return 1\n",
    "  elif tmp <= theta:\n",
    "    return 0\n",
    "\n",
    "print(AND(0, 0))\n",
    "print(AND(0, 1))\n",
    "print(AND(1, 0))\n",
    "print(AND(1, 1))"
   ]
  },
  {
   "cell_type": "code",
   "execution_count": 21,
   "metadata": {},
   "outputs": [
    {
     "name": "stdout",
     "output_type": "stream",
     "text": [
      "0\n",
      "1\n",
      "1\n",
      "1\n"
     ]
    }
   ],
   "source": [
    "# OR 게이트 퍼셉트론\n",
    "def OR(x1, x2):\n",
    "  w1, w2, theta = 0.5, 0.5, 0.2\n",
    "  tmp = x1*w1 + x2*w2\n",
    "  if tmp > theta:\n",
    "    return 1\n",
    "  elif tmp <= theta:\n",
    "    return 0\n",
    "\n",
    "print(OR(0, 0))\n",
    "print(OR(0, 1))\n",
    "print(OR(1, 0))\n",
    "print(OR(1, 1))"
   ]
  },
  {
   "cell_type": "code",
   "execution_count": 22,
   "metadata": {},
   "outputs": [
    {
     "name": "stdout",
     "output_type": "stream",
     "text": [
      "1\n",
      "1\n",
      "1\n",
      "0\n"
     ]
    }
   ],
   "source": [
    "# NAND 게이트 퍼셉트론\n",
    "def NAND(x1, x2):\n",
    "  w1, w2, theta = -0.5, -0.5, -0.7\n",
    "  tmp = x1*w1 + x2*w2\n",
    "  if tmp > theta:\n",
    "    return 1\n",
    "  elif tmp <= theta:\n",
    "    return 0\n",
    "\n",
    "print(NAND(0, 0))\n",
    "print(NAND(0, 1))\n",
    "print(NAND(1, 0))\n",
    "print(NAND(1, 1))"
   ]
  },
  {
   "cell_type": "code",
   "execution_count": 23,
   "metadata": {},
   "outputs": [
    {
     "data": {
      "text/plain": [
       "-0.19999999999999996"
      ]
     },
     "execution_count": 23,
     "metadata": {},
     "output_type": "execute_result"
    }
   ],
   "source": [
    "# 편향 도입\n",
    "import numpy as np\n",
    "\n",
    "# 입력\n",
    "x = np.array([0, 1])\n",
    "\n",
    "# 가중치\n",
    "w = np.array([0.5, 0.5])\n",
    "\n",
    "# 편향\n",
    "b = -0.7\n",
    "\n",
    "np.sum(w * x) + b"
   ]
  },
  {
   "cell_type": "code",
   "execution_count": 24,
   "metadata": {},
   "outputs": [],
   "source": [
    "# 편향을 도입한 AND 게이트 퍼셉트론\n",
    "def AND(x1, x2):\n",
    "  x = np.array([x1, x2])\n",
    "  w = np.array([0.5, 0.5])\n",
    "  b = -0.7\n",
    "  tmp = np.sum(w * x) + b\n",
    "  if tmp > 0:\n",
    "    return 1\n",
    "  elif tmp <= 0:\n",
    "    return 0"
   ]
  },
  {
   "cell_type": "code",
   "execution_count": 25,
   "metadata": {},
   "outputs": [],
   "source": [
    "# 편향을 도입한 NAND 게이트 퍼셉트론\n",
    "def NAND(x1, x2):\n",
    "  x = np.array([x1, x2])\n",
    "  w = np.array([-0.5, -0.5])\n",
    "  b = 0.7\n",
    "  tmp = np.sum(w * x) + b\n",
    "  if tmp > 0:\n",
    "    return 1\n",
    "  elif tmp <= 0:\n",
    "    return 0"
   ]
  },
  {
   "cell_type": "code",
   "execution_count": 26,
   "metadata": {},
   "outputs": [],
   "source": [
    "# 편향을 도입한 OR 게이트 퍼셉트론\n",
    "def OR(x1, x2):\n",
    "  x = np.array([x1, x2])\n",
    "  w = np.array([0.5, 0.5])\n",
    "  b = -0.2\n",
    "  tmp = np.sum(w * x) + b\n",
    "  if tmp > 0:\n",
    "    return 1\n",
    "  elif tmp <= 0:\n",
    "    return 0"
   ]
  },
  {
   "cell_type": "code",
   "execution_count": 27,
   "metadata": {},
   "outputs": [
    {
     "name": "stdout",
     "output_type": "stream",
     "text": [
      "0\n",
      "1\n",
      "1\n",
      "0\n"
     ]
    }
   ],
   "source": [
    "# XOR 게이트 다중 퍼셉트론\n",
    "def XOR(x1, x2):\n",
    "  s1 = NAND(x1, x2)\n",
    "  s2 = OR(x1, x2)\n",
    "  y = AND(s1, s2)\n",
    "  return y\n",
    "\n",
    "print(XOR(0, 0))\n",
    "print(XOR(0, 1))\n",
    "print(XOR(1, 0))\n",
    "print(XOR(1, 1))"
   ]
  }
 ],
 "metadata": {
  "interpreter": {
   "hash": "31f2aee4e71d21fbe5cf8b01ff0e069b9275f58929596ceb00d14d90e3e16cd6"
  },
  "kernelspec": {
   "display_name": "Python 3.6.9 64-bit",
   "language": "python",
   "name": "python3"
  },
  "language_info": {
   "codemirror_mode": {
    "name": "ipython",
    "version": 3
   },
   "file_extension": ".py",
   "mimetype": "text/x-python",
   "name": "python",
   "nbconvert_exporter": "python",
   "pygments_lexer": "ipython3",
   "version": "3.6.9"
  },
  "orig_nbformat": 4
 },
 "nbformat": 4,
 "nbformat_minor": 2
}
